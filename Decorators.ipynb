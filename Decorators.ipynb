{
  "nbformat": 4,
  "nbformat_minor": 0,
  "metadata": {
    "colab": {
      "name": "Python Decorators.ipynb",
      "provenance": [],
      "authorship_tag": "ABX9TyOfrvWMUhWkh4mVZU0Nbygt",
      "include_colab_link": true
    },
    "kernelspec": {
      "name": "python3",
      "display_name": "Python 3"
    }
  },
  "cells": [
    {
      "cell_type": "markdown",
      "metadata": {
        "id": "view-in-github",
        "colab_type": "text"
      },
      "source": [
        "<a href=\"https://colab.research.google.com/github/vinayshanbhag/python_concepts/blob/master/Decorators.ipynb\" target=\"_parent\"><img src=\"https://colab.research.google.com/assets/colab-badge.svg\" alt=\"Open In Colab\"/></a>"
      ]
    },
    {
      "cell_type": "markdown",
      "metadata": {
        "id": "z-Is1ur58CPl",
        "colab_type": "text"
      },
      "source": [
        "## Python Decorators\n",
        "\n",
        "Python decorators can be used to dynamically alter the functionality of a function without having to change the source code of the function being decorated.\n",
        "\n",
        "The ```decorator``` function takes the original function to be decorated as input. The inner ```decorated``` wraps additional functionality around the original function. The ```decorator``` then returns the ```decorated``` inner function \n",
        "\n"
      ]
    },
    {
      "cell_type": "code",
      "metadata": {
        "id": "lHvSJuuUyKWc",
        "colab_type": "code",
        "colab": {}
      },
      "source": [
        "def decorator(func_to_be_decorated):\n",
        "  print(f\"decorator called for {func_to_be_decorated.__name__}\")\n",
        "  def decorated():\n",
        "    print(f\"calling {func_to_be_decorated.__name__}:\")\n",
        "    val = func_to_be_decorated()\n",
        "    print(f\":{func_to_be_decorated.__name__} ended\")\n",
        "    return val\n",
        "  return decorated"
      ],
      "execution_count": 0,
      "outputs": []
    },
    {
      "cell_type": "markdown",
      "metadata": {
        "id": "kZ0AGXPg9nS8",
        "colab_type": "text"
      },
      "source": [
        "To put this to use, we define a function ```baz``` and then reassign ```baz``` to decorated version"
      ]
    },
    {
      "cell_type": "code",
      "metadata": {
        "id": "3Dornf84zaw3",
        "colab_type": "code",
        "colab": {
          "base_uri": "https://localhost:8080/",
          "height": 34
        },
        "outputId": "309a3a76-b170-4441-b6e1-e4d6a8ea4730"
      },
      "source": [
        "def baz():\n",
        "  print(\"inside baz\")\n",
        "  return \"baz\"\n",
        "baz = decorator(baz)"
      ],
      "execution_count": 156,
      "outputs": [
        {
          "output_type": "stream",
          "text": [
            "decorator called for baz\n"
          ],
          "name": "stdout"
        }
      ]
    },
    {
      "cell_type": "markdown",
      "metadata": {
        "id": "S6e3C0n697w0",
        "colab_type": "text"
      },
      "source": [
        "Calling ```baz```, we can see the decorated behavior"
      ]
    },
    {
      "cell_type": "code",
      "metadata": {
        "id": "sCk_wgiuzoho",
        "colab_type": "code",
        "colab": {
          "base_uri": "https://localhost:8080/",
          "height": 85
        },
        "outputId": "22d0c78e-73c9-40f3-8616-4d7897c4c651"
      },
      "source": [
        "x = baz()\n",
        "print(f\"function baz returned: {x}\")"
      ],
      "execution_count": 157,
      "outputs": [
        {
          "output_type": "stream",
          "text": [
            "calling baz:\n",
            "inside baz\n",
            ":baz ended\n",
            "function baz returned: baz\n"
          ],
          "name": "stdout"
        }
      ]
    },
    {
      "cell_type": "markdown",
      "metadata": {
        "id": "VTUIXamK-K0L",
        "colab_type": "text"
      },
      "source": [
        "Alternatively, this can be simplified with the @decorator syntax."
      ]
    },
    {
      "cell_type": "code",
      "metadata": {
        "id": "etFC03W_yo5G",
        "colab_type": "code",
        "colab": {
          "base_uri": "https://localhost:8080/",
          "height": 51
        },
        "outputId": "1b4d267c-0ad8-4075-add4-919b11fa0a7d"
      },
      "source": [
        "@decorator\n",
        "def foo():\n",
        "  print(\"inside foo\")\n",
        "  return \"foo\"\n",
        "\n",
        "@decorator\n",
        "def bar():\n",
        "  print(\"inside bar\")\n",
        "  return \"bar\"  "
      ],
      "execution_count": 158,
      "outputs": [
        {
          "output_type": "stream",
          "text": [
            "decorator called for foo\n",
            "decorator called for bar\n"
          ],
          "name": "stdout"
        }
      ]
    },
    {
      "cell_type": "markdown",
      "metadata": {
        "id": "r54Ykam3-jg9",
        "colab_type": "text"
      },
      "source": [
        "Calling these functions, reveals decorated behavior"
      ]
    },
    {
      "cell_type": "code",
      "metadata": {
        "id": "y2sB51mJyuoX",
        "colab_type": "code",
        "colab": {
          "base_uri": "https://localhost:8080/",
          "height": 187
        },
        "outputId": "e38c8678-b015-41e8-bffe-b49946453ced"
      },
      "source": [
        "v = foo()\n",
        "print(f\"function foo returned: {v}\\n\")\n",
        "w = bar()\n",
        "print(f\"function bar returned: {w}\\n\")"
      ],
      "execution_count": 159,
      "outputs": [
        {
          "output_type": "stream",
          "text": [
            "calling foo:\n",
            "inside foo\n",
            ":foo ended\n",
            "function foo returned: foo\n",
            "\n",
            "calling bar:\n",
            "inside bar\n",
            ":bar ended\n",
            "function bar returned: bar\n",
            "\n"
          ],
          "name": "stdout"
        }
      ]
    },
    {
      "cell_type": "markdown",
      "metadata": {
        "id": "-Jv-q3Rv-i07",
        "colab_type": "text"
      },
      "source": [
        "To handle function arguments, pass ```*args``` and ```**kwargs``` to the wrapper function"
      ]
    },
    {
      "cell_type": "code",
      "metadata": {
        "id": "L8TLXPArzpfI",
        "colab_type": "code",
        "colab": {}
      },
      "source": [
        "def yet_another_decorator(func):\n",
        "  def decorated(*args, **kwargs):\n",
        "    print(f\"calling {func.__name__}:\")\n",
        "    val = func(*args, **kwargs)\n",
        "    print(f\":{func.__name__} ended\")\n",
        "    return val\n",
        "  return decorated"
      ],
      "execution_count": 0,
      "outputs": []
    },
    {
      "cell_type": "code",
      "metadata": {
        "id": "joWg0oas_eP4",
        "colab_type": "code",
        "colab": {}
      },
      "source": [
        "@yet_another_decorator\n",
        "def hello(*args):\n",
        "  print(f\"hello:{' '.join(list(args))}\")\n",
        "  return ' '.join(list(args))"
      ],
      "execution_count": 0,
      "outputs": []
    },
    {
      "cell_type": "code",
      "metadata": {
        "id": "ZOdZGfZ4_wcY",
        "colab_type": "code",
        "colab": {
          "base_uri": "https://localhost:8080/",
          "height": 85
        },
        "outputId": "e2acd396-f95e-4730-8a3d-631748f9aa27"
      },
      "source": [
        "hello('beautiful', 'world')"
      ],
      "execution_count": 162,
      "outputs": [
        {
          "output_type": "stream",
          "text": [
            "calling hello:\n",
            "hello:beautiful world\n",
            ":hello ended\n"
          ],
          "name": "stdout"
        },
        {
          "output_type": "execute_result",
          "data": {
            "text/plain": [
              "'beautiful world'"
            ]
          },
          "metadata": {
            "tags": []
          },
          "execution_count": 162
        }
      ]
    },
    {
      "cell_type": "markdown",
      "metadata": {
        "id": "B_-fdez7DmyD",
        "colab_type": "text"
      },
      "source": [
        "### Decorators using classes"
      ]
    },
    {
      "cell_type": "code",
      "metadata": {
        "id": "Z3R3uVWY_xSZ",
        "colab_type": "code",
        "colab": {}
      },
      "source": [
        "class Decorator_class():\n",
        "  def __init__(self, func_to_be_decorated):\n",
        "    self.func_to_be_decorated = func_to_be_decorated\n",
        "  \n",
        "  def __call__(self, *args, **kwargs):\n",
        "    print(f\"calling {self.func_to_be_decorated.__name__}:\")\n",
        "    val = self.func_to_be_decorated(*args, **kwargs)\n",
        "    print(f\":{self.func_to_be_decorated.__name__} ended\")\n",
        "    return val"
      ],
      "execution_count": 0,
      "outputs": []
    },
    {
      "cell_type": "code",
      "metadata": {
        "id": "MmEIDMz2CfvU",
        "colab_type": "code",
        "colab": {}
      },
      "source": [
        "@Decorator_class\n",
        "def some_func(*args):\n",
        "  print(f\"some_func({','.join(list(args))}):\")\n",
        "  return ' '.join(list(args))"
      ],
      "execution_count": 0,
      "outputs": []
    },
    {
      "cell_type": "code",
      "metadata": {
        "id": "M1kGs_5iC5dZ",
        "colab_type": "code",
        "colab": {
          "base_uri": "https://localhost:8080/",
          "height": 85
        },
        "outputId": "439dfcbb-38a0-4455-daa7-4b614497ecc7"
      },
      "source": [
        "z = some_func(\"test\")\n",
        "print(f\"some_func returned:{z}\")"
      ],
      "execution_count": 165,
      "outputs": [
        {
          "output_type": "stream",
          "text": [
            "calling some_func:\n",
            "some_func(test):\n",
            ":some_func ended\n",
            "some_func returned:test\n"
          ],
          "name": "stdout"
        }
      ]
    },
    {
      "cell_type": "markdown",
      "metadata": {
        "id": "RagJOz9gEWgp",
        "colab_type": "text"
      },
      "source": [
        "### Chaining multiple decorators\n",
        "\n",
        "Here we apply ```time_it``` decorator to ```some_long_running_func``` and then also apply the ```logger``` decorator. The problem here is that the inner most decorator returns a wrapper func, so the logger sees ```wrapper``` instead of our original function\n"
      ]
    },
    {
      "cell_type": "code",
      "metadata": {
        "id": "8tok3kcXC7O5",
        "colab_type": "code",
        "colab": {}
      },
      "source": [
        "import time\n",
        "def logger(f):\n",
        "  def wrapper(*args, **kwargs):\n",
        "    print(f\"log: {f.__name__}({','.join([str(i) for i in list(args)])},{','.join([f'{i[0]}={str(i[1])}' for i in kwargs.items()])}):\")\n",
        "    return f(*args, **kwargs)\n",
        "  return wrapper\n",
        "\n",
        "def time_it(f):\n",
        "  def wrapper(*args, **kwargs):\n",
        "    s = time.perf_counter()\n",
        "    v = f(*args, **kwargs)\n",
        "    e = time.perf_counter()\n",
        "    print(f\"{f.__name__} took:{e-s:0.3f}s\")\n",
        "    return v\n",
        "  return wrapper"
      ],
      "execution_count": 0,
      "outputs": []
    },
    {
      "cell_type": "code",
      "metadata": {
        "id": "vLvoLf0aFJNq",
        "colab_type": "code",
        "colab": {}
      },
      "source": [
        "@logger\n",
        "@time_it\n",
        "def some_long_running_func():\n",
        "  time.sleep(2)"
      ],
      "execution_count": 0,
      "outputs": []
    },
    {
      "cell_type": "code",
      "metadata": {
        "id": "Znl9FwGkH-rW",
        "colab_type": "code",
        "colab": {
          "base_uri": "https://localhost:8080/",
          "height": 51
        },
        "outputId": "f8c40ef2-8b17-4d3d-f0de-862271edf79a"
      },
      "source": [
        "some_long_running_func()"
      ],
      "execution_count": 168,
      "outputs": [
        {
          "output_type": "stream",
          "text": [
            "log: wrapper(,):\n",
            "some_long_running_func took:2.002s\n"
          ],
          "name": "stdout"
        }
      ]
    },
    {
      "cell_type": "markdown",
      "metadata": {
        "id": "D__-6H_tL9t0",
        "colab_type": "text"
      },
      "source": [
        "This is fixed by using the wraps decorator from functools. wrapper function in each decorator is now decorated with ```@wraps(<original func>)```"
      ]
    },
    {
      "cell_type": "code",
      "metadata": {
        "id": "jfqzxYZuH_cm",
        "colab_type": "code",
        "colab": {}
      },
      "source": [
        "import time\n",
        "from functools import wraps\n",
        "def logger2(f):\n",
        "  @wraps(f)\n",
        "  def wrapper(*args, **kwargs):\n",
        "    print(f\"log: {f.__name__}({','.join([str(i) for i in list(args)])},{','.join([f'{i[0]}={str(i[1])}' for i in kwargs.items()])}):\")\n",
        "    return f(*args, **kwargs)\n",
        "  return wrapper\n",
        "\n",
        "def time_it2(f):\n",
        "  @wraps(f)\n",
        "  def wrapper(*args, **kwargs):\n",
        "    s = time.perf_counter()\n",
        "    v = f(*args, **kwargs)\n",
        "    e = time.perf_counter()\n",
        "    print(f\"{f.__name__} took:{e-s:0.3f}s\")\n",
        "    return v\n",
        "  return wrapper"
      ],
      "execution_count": 0,
      "outputs": []
    },
    {
      "cell_type": "code",
      "metadata": {
        "id": "2y7H3CDVMDHz",
        "colab_type": "code",
        "colab": {}
      },
      "source": [
        "@logger2\n",
        "@time_it2\n",
        "def yet_another_long_running_func():\n",
        "  time.sleep(2)"
      ],
      "execution_count": 0,
      "outputs": []
    },
    {
      "cell_type": "code",
      "metadata": {
        "id": "hxyJ19DdMIaa",
        "colab_type": "code",
        "colab": {
          "base_uri": "https://localhost:8080/",
          "height": 51
        },
        "outputId": "6427d5af-4987-4353-af82-f9a7daa9a77e"
      },
      "source": [
        "yet_another_long_running_func()"
      ],
      "execution_count": 174,
      "outputs": [
        {
          "output_type": "stream",
          "text": [
            "log: yet_another_long_running_func(,):\n",
            "yet_another_long_running_func took:2.002s\n"
          ],
          "name": "stdout"
        }
      ]
    },
    {
      "cell_type": "code",
      "metadata": {
        "id": "nL5BaPodMKeH",
        "colab_type": "code",
        "colab": {}
      },
      "source": [
        ""
      ],
      "execution_count": 0,
      "outputs": []
    }
  ]
}