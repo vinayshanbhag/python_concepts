{
  "nbformat": 4,
  "nbformat_minor": 0,
  "metadata": {
    "colab": {
      "name": "Decorators.ipynb",
      "provenance": [],
      "collapsed_sections": [],
      "authorship_tag": "ABX9TyP/ur3KeloeK/R65yD4zK02",
      "include_colab_link": true
    },
    "kernelspec": {
      "name": "python3",
      "display_name": "Python 3"
    }
  },
  "cells": [
    {
      "cell_type": "markdown",
      "metadata": {
        "id": "view-in-github",
        "colab_type": "text"
      },
      "source": [
        "<a href=\"https://colab.research.google.com/github/vinayshanbhag/python_concepts/blob/master/Decorators.ipynb\" target=\"_parent\"><img src=\"https://colab.research.google.com/assets/colab-badge.svg\" alt=\"Open In Colab\"/></a>"
      ]
    },
    {
      "cell_type": "markdown",
      "metadata": {
        "id": "z-Is1ur58CPl",
        "colab_type": "text"
      },
      "source": [
        "## Python Decorators\n",
        "\n",
        "Python decorators can be used to dynamically alter the functionality of a function without having to change the source code of the function being decorated.\n",
        "\n",
        "The ```decorator``` function takes the original function to be decorated as input. The inner function ```decorated``` wraps additional functionality around the original function. The ```decorator``` then returns the ```decorated``` inner function \n",
        "\n"
      ]
    },
    {
      "cell_type": "code",
      "metadata": {
        "id": "lHvSJuuUyKWc",
        "colab_type": "code",
        "colab": {}
      },
      "source": [
        "def decorator(original):\n",
        "  print(f\"decorator called for {original.__name__}\")\n",
        "  def decorated():\n",
        "    print(f\"calling {original.__name__}:\")\n",
        "    val = original()\n",
        "    print(f\":{original.__name__} ended\")\n",
        "    return val\n",
        "  return decorated"
      ],
      "execution_count": 0,
      "outputs": []
    },
    {
      "cell_type": "markdown",
      "metadata": {
        "id": "kZ0AGXPg9nS8",
        "colab_type": "text"
      },
      "source": [
        "To put this to use, we define a function ```foo``` and then reassign ```foo``` to decorated version"
      ]
    },
    {
      "cell_type": "code",
      "metadata": {
        "id": "3Dornf84zaw3",
        "colab_type": "code",
        "colab": {
          "base_uri": "https://localhost:8080/",
          "height": 34
        },
        "outputId": "6bf4dbc3-83c2-43ed-f74f-263ef6796266"
      },
      "source": [
        "def foo():\n",
        "  \"\"\"\n",
        "  Docstring for function foo goes here\n",
        "  \"\"\"\n",
        "  print(\"inside foo\")\n",
        "  return \"foo\"\n",
        "foo = decorator(foo)"
      ],
      "execution_count": 30,
      "outputs": [
        {
          "output_type": "stream",
          "text": [
            "decorator called for foo\n"
          ],
          "name": "stdout"
        }
      ]
    },
    {
      "cell_type": "markdown",
      "metadata": {
        "id": "S6e3C0n697w0",
        "colab_type": "text"
      },
      "source": [
        "Calling ```foo```, we can see the decorated behavior"
      ]
    },
    {
      "cell_type": "code",
      "metadata": {
        "id": "sCk_wgiuzoho",
        "colab_type": "code",
        "colab": {
          "base_uri": "https://localhost:8080/",
          "height": 85
        },
        "outputId": "8838e64e-571d-414e-d2e7-9dbe963a6a41"
      },
      "source": [
        "x = foo()\n",
        "print(f\"function foo returned: {x}\")"
      ],
      "execution_count": 31,
      "outputs": [
        {
          "output_type": "stream",
          "text": [
            "calling foo:\n",
            "inside foo\n",
            ":foo ended\n",
            "function foo returned: foo\n"
          ],
          "name": "stdout"
        }
      ]
    },
    {
      "cell_type": "markdown",
      "metadata": {
        "id": "VTUIXamK-K0L",
        "colab_type": "text"
      },
      "source": [
        "Alternatively, this can be simplified with the @decorator syntax."
      ]
    },
    {
      "cell_type": "code",
      "metadata": {
        "id": "etFC03W_yo5G",
        "colab_type": "code",
        "colab": {
          "base_uri": "https://localhost:8080/",
          "height": 34
        },
        "outputId": "f8cee5bc-2113-4a65-e7e2-d3a0c2a59fe1"
      },
      "source": [
        "@decorator\n",
        "def foo():\n",
        "  \"\"\"\n",
        "  Docstring for function foo goes here\n",
        "  \"\"\"\n",
        "  print(\"inside foo\")\n",
        "  return \"foo\""
      ],
      "execution_count": 32,
      "outputs": [
        {
          "output_type": "stream",
          "text": [
            "decorator called for foo\n"
          ],
          "name": "stdout"
        }
      ]
    },
    {
      "cell_type": "markdown",
      "metadata": {
        "id": "r54Ykam3-jg9",
        "colab_type": "text"
      },
      "source": [
        "Calling this function, reveals decorated behavior"
      ]
    },
    {
      "cell_type": "code",
      "metadata": {
        "id": "y2sB51mJyuoX",
        "colab_type": "code",
        "colab": {
          "base_uri": "https://localhost:8080/",
          "height": 102
        },
        "outputId": "75c587c8-4210-466f-fd29-5f9d0e227e3e"
      },
      "source": [
        "y = foo()\n",
        "print(f\"function foo returned: {y}\\n\")"
      ],
      "execution_count": 33,
      "outputs": [
        {
          "output_type": "stream",
          "text": [
            "calling foo:\n",
            "inside foo\n",
            ":foo ended\n",
            "function foo returned: foo\n",
            "\n"
          ],
          "name": "stdout"
        }
      ]
    },
    {
      "cell_type": "markdown",
      "metadata": {
        "id": "-Jv-q3Rv-i07",
        "colab_type": "text"
      },
      "source": [
        "To handle function arguments, pass ```*args``` and ```**kwargs``` to the wrapper function"
      ]
    },
    {
      "cell_type": "code",
      "metadata": {
        "id": "L8TLXPArzpfI",
        "colab_type": "code",
        "colab": {}
      },
      "source": [
        "def decorator(original):\n",
        "  print(f\"decorator called for {original.__name__}\")\n",
        "  def decorated(*args, **kwargs):\n",
        "    print(f\"calling {original.__name__}:\")\n",
        "    val = original(*args,**kwargs)\n",
        "    print(f\":{original.__name__} ended\")\n",
        "    return val\n",
        "  return decorated"
      ],
      "execution_count": 0,
      "outputs": []
    },
    {
      "cell_type": "code",
      "metadata": {
        "id": "joWg0oas_eP4",
        "colab_type": "code",
        "colab": {
          "base_uri": "https://localhost:8080/",
          "height": 34
        },
        "outputId": "4afcdf58-3fa1-459b-8ba3-9f024d73a886"
      },
      "source": [
        "@decorator\n",
        "def foo(n):\n",
        "  \"\"\"\n",
        "  Docstring for function foo goes here\n",
        "  \"\"\"\n",
        "  print(f\"inside foo - {n}\")\n",
        "  return \"foo\""
      ],
      "execution_count": 35,
      "outputs": [
        {
          "output_type": "stream",
          "text": [
            "decorator called for foo\n"
          ],
          "name": "stdout"
        }
      ]
    },
    {
      "cell_type": "code",
      "metadata": {
        "id": "ZOdZGfZ4_wcY",
        "colab_type": "code",
        "colab": {
          "base_uri": "https://localhost:8080/",
          "height": 68
        },
        "outputId": "2a1f5075-1fd3-4e0e-ea24-3a36d06d02ab"
      },
      "source": [
        "foo(10);"
      ],
      "execution_count": 36,
      "outputs": [
        {
          "output_type": "stream",
          "text": [
            "calling foo:\n",
            "inside foo - 10\n",
            ":foo ended\n"
          ],
          "name": "stdout"
        }
      ]
    },
    {
      "cell_type": "markdown",
      "metadata": {
        "id": "3X4lkA0oi0aW",
        "colab_type": "text"
      },
      "source": [
        "But there is a problem... \n",
        "\n",
        "```help()``` returns incorrect information"
      ]
    },
    {
      "cell_type": "code",
      "metadata": {
        "id": "Zgsqabpai4Ny",
        "colab_type": "code",
        "colab": {
          "base_uri": "https://localhost:8080/",
          "height": 85
        },
        "outputId": "8595faee-0032-44af-ec5d-3948978e6bd7"
      },
      "source": [
        "help(foo)"
      ],
      "execution_count": 37,
      "outputs": [
        {
          "output_type": "stream",
          "text": [
            "Help on function decorated in module __main__:\n",
            "\n",
            "decorated(*args, **kwargs)\n",
            "\n"
          ],
          "name": "stdout"
        }
      ]
    },
    {
      "cell_type": "markdown",
      "metadata": {
        "id": "g0Q-SspOjhdj",
        "colab_type": "text"
      },
      "source": [
        "because the ```__doc__``` string is empty"
      ]
    },
    {
      "cell_type": "code",
      "metadata": {
        "id": "ID5D0P52i78y",
        "colab_type": "code",
        "colab": {}
      },
      "source": [
        "foo.__doc__"
      ],
      "execution_count": 0,
      "outputs": []
    },
    {
      "cell_type": "markdown",
      "metadata": {
        "id": "-8cMfl_Vjr9Y",
        "colab_type": "text"
      },
      "source": [
        "and ```__name__``` is that of the wrapper function"
      ]
    },
    {
      "cell_type": "code",
      "metadata": {
        "id": "95sD2HZvjFX8",
        "colab_type": "code",
        "colab": {
          "base_uri": "https://localhost:8080/",
          "height": 34
        },
        "outputId": "821c69e1-6bd2-4310-ce0a-476690dbd743"
      },
      "source": [
        "foo.__name__"
      ],
      "execution_count": 39,
      "outputs": [
        {
          "output_type": "execute_result",
          "data": {
            "text/plain": [
              "'decorated'"
            ]
          },
          "metadata": {
            "tags": []
          },
          "execution_count": 39
        }
      ]
    },
    {
      "cell_type": "markdown",
      "metadata": {
        "id": "EtRrqqk7j7e1",
        "colab_type": "text"
      },
      "source": [
        "To fix this, we use ```@wraps``` decorator from ```functools```"
      ]
    },
    {
      "cell_type": "code",
      "metadata": {
        "id": "sHfYnU2SpwpN",
        "colab_type": "code",
        "colab": {}
      },
      "source": [
        "from functools import wraps\n",
        "def decorator(original):\n",
        "  print(f\"decorator called for {original.__name__}\")\n",
        "  @wraps(original)\n",
        "  def decorated(*args, **kwargs):\n",
        "    print(f\"calling {original.__name__}:\")\n",
        "    val = original(*args,**kwargs)\n",
        "    print(f\":{original.__name__} ended\")\n",
        "    return val\n",
        "  return decorated"
      ],
      "execution_count": 0,
      "outputs": []
    },
    {
      "cell_type": "code",
      "metadata": {
        "id": "m0-r3XVhp_tW",
        "colab_type": "code",
        "colab": {
          "base_uri": "https://localhost:8080/",
          "height": 34
        },
        "outputId": "21708ab5-ad44-49a9-b200-fec3dfbf8414"
      },
      "source": [
        "@decorator\n",
        "def foo(n):\n",
        "  \"\"\"\n",
        "  Docstring for function foo goes here\n",
        "  \"\"\"\n",
        "  print(f\"inside foo - {n}\")\n",
        "  return \"foo\""
      ],
      "execution_count": 41,
      "outputs": [
        {
          "output_type": "stream",
          "text": [
            "decorator called for foo\n"
          ],
          "name": "stdout"
        }
      ]
    },
    {
      "cell_type": "markdown",
      "metadata": {
        "id": "MxacpXY4qypn",
        "colab_type": "text"
      },
      "source": [
        "Decorated behavior works the same as before"
      ]
    },
    {
      "cell_type": "code",
      "metadata": {
        "id": "4QF16NYpqK3s",
        "colab_type": "code",
        "colab": {
          "base_uri": "https://localhost:8080/",
          "height": 68
        },
        "outputId": "30da6c5a-c914-4838-cf0e-f83ea9e6b31f"
      },
      "source": [
        "foo(10);"
      ],
      "execution_count": 43,
      "outputs": [
        {
          "output_type": "stream",
          "text": [
            "calling foo:\n",
            "inside foo - 10\n",
            ":foo ended\n"
          ],
          "name": "stdout"
        }
      ]
    },
    {
      "cell_type": "markdown",
      "metadata": {
        "id": "8o4rS_oSq9ij",
        "colab_type": "text"
      },
      "source": [
        "But now the function name is reported correctly and ```help()``` works as expected"
      ]
    },
    {
      "cell_type": "code",
      "metadata": {
        "id": "7IJs_OgMrN_Q",
        "colab_type": "code",
        "colab": {
          "base_uri": "https://localhost:8080/",
          "height": 34
        },
        "outputId": "da42e7ae-1941-4257-9811-a463f8ced77b"
      },
      "source": [
        "foo.__name__"
      ],
      "execution_count": 44,
      "outputs": [
        {
          "output_type": "execute_result",
          "data": {
            "text/plain": [
              "'foo'"
            ]
          },
          "metadata": {
            "tags": []
          },
          "execution_count": 44
        }
      ]
    },
    {
      "cell_type": "code",
      "metadata": {
        "id": "J-2dXLI7rRbe",
        "colab_type": "code",
        "colab": {
          "base_uri": "https://localhost:8080/",
          "height": 102
        },
        "outputId": "1bacdd23-45b5-423c-dddd-41450f098617"
      },
      "source": [
        "help(foo)"
      ],
      "execution_count": 45,
      "outputs": [
        {
          "output_type": "stream",
          "text": [
            "Help on function foo in module __main__:\n",
            "\n",
            "foo(n)\n",
            "    Docstring for function foo goes here\n",
            "\n"
          ],
          "name": "stdout"
        }
      ]
    },
    {
      "cell_type": "markdown",
      "metadata": {
        "id": "RagJOz9gEWgp",
        "colab_type": "text"
      },
      "source": [
        "### Chaining multiple decorators\n",
        "\n",
        "Here we apply ```time_it``` decorator to ```some_long_running_func``` and then also apply the ```logger``` decorator. The problem here is that the inner most decorator returns a wrapper func, so the logger sees ```wrapper``` instead of our original function\n"
      ]
    },
    {
      "cell_type": "code",
      "metadata": {
        "id": "jfqzxYZuH_cm",
        "colab_type": "code",
        "colab": {}
      },
      "source": [
        "import time\n",
        "\n",
        "def logger(f):\n",
        "  @wraps(f)\n",
        "  def wrapper(*args, **kwargs):\n",
        "    print(f\"calling {f.__name__}():\")\n",
        "    return f(*args, **kwargs)\n",
        "  return wrapper\n",
        "\n",
        "def time_it(f):\n",
        "  @wraps(f)\n",
        "  def wrapper(*args, **kwargs):\n",
        "    s = time.perf_counter()\n",
        "    v = f(*args, **kwargs)\n",
        "    e = time.perf_counter()\n",
        "    print(f\"{f.__name__} took:{e-s:0.3f}s\")\n",
        "    return v\n",
        "  return wrapper"
      ],
      "execution_count": 0,
      "outputs": []
    },
    {
      "cell_type": "code",
      "metadata": {
        "id": "2y7H3CDVMDHz",
        "colab_type": "code",
        "colab": {}
      },
      "source": [
        "@logger\n",
        "@time_it\n",
        "def some_long_running_func():\n",
        "  \"\"\"Some long running function\"\"\"\n",
        "  time.sleep(2)"
      ],
      "execution_count": 0,
      "outputs": []
    },
    {
      "cell_type": "code",
      "metadata": {
        "id": "0bgwWQmWsIkW",
        "colab_type": "code",
        "colab": {
          "base_uri": "https://localhost:8080/",
          "height": 51
        },
        "outputId": "02a30a0c-df14-4366-def6-821dcaea3c94"
      },
      "source": [
        "some_long_running_func()"
      ],
      "execution_count": 55,
      "outputs": [
        {
          "output_type": "stream",
          "text": [
            "calling some_long_running_func():\n",
            "some_long_running_func took:2.002s\n"
          ],
          "name": "stdout"
        }
      ]
    },
    {
      "cell_type": "code",
      "metadata": {
        "id": "N4uG5uy3s0kW",
        "colab_type": "code",
        "colab": {
          "base_uri": "https://localhost:8080/",
          "height": 102
        },
        "outputId": "6e4adbe9-c387-4180-d04a-03d39a9823a8"
      },
      "source": [
        "help(some_long_running_func)"
      ],
      "execution_count": 56,
      "outputs": [
        {
          "output_type": "stream",
          "text": [
            "Help on function some_long_running_func in module __main__:\n",
            "\n",
            "some_long_running_func()\n",
            "    Some long running function\n",
            "\n"
          ],
          "name": "stdout"
        }
      ]
    },
    {
      "cell_type": "markdown",
      "metadata": {
        "id": "B_-fdez7DmyD",
        "colab_type": "text"
      },
      "source": [
        "### Decorators using classes"
      ]
    },
    {
      "cell_type": "code",
      "metadata": {
        "id": "Z3R3uVWY_xSZ",
        "colab_type": "code",
        "colab": {}
      },
      "source": [
        "class Decorator_class():\n",
        "  def __init__(self, func_to_be_decorated):\n",
        "    self.func_to_be_decorated = func_to_be_decorated\n",
        "  \n",
        "  def __call__(self, *args, **kwargs):\n",
        "    print(f\"calling {self.func_to_be_decorated.__name__}:\")\n",
        "    val = self.func_to_be_decorated(*args, **kwargs)\n",
        "    print(f\":{self.func_to_be_decorated.__name__} ended\")\n",
        "    return val"
      ],
      "execution_count": 0,
      "outputs": []
    },
    {
      "cell_type": "code",
      "metadata": {
        "id": "MmEIDMz2CfvU",
        "colab_type": "code",
        "colab": {}
      },
      "source": [
        "@Decorator_class\n",
        "def some_func(*args):\n",
        "  print(f\"some_func({','.join(list(args))}):\")\n",
        "  return ' '.join(list(args))"
      ],
      "execution_count": 0,
      "outputs": []
    },
    {
      "cell_type": "code",
      "metadata": {
        "id": "M1kGs_5iC5dZ",
        "colab_type": "code",
        "colab": {
          "base_uri": "https://localhost:8080/",
          "height": 85
        },
        "outputId": "6e3f5760-4105-48c3-9931-b13d7f1c89a8"
      },
      "source": [
        "z = some_func(\"test\")\n",
        "print(f\"some_func returned:{z}\")"
      ],
      "execution_count": 64,
      "outputs": [
        {
          "output_type": "stream",
          "text": [
            "calling some_func:\n",
            "some_func(test):\n",
            ":some_func ended\n",
            "some_func returned:test\n"
          ],
          "name": "stdout"
        }
      ]
    },
    {
      "cell_type": "code",
      "metadata": {
        "id": "CWLvmQ17tGwt",
        "colab_type": "code",
        "colab": {}
      },
      "source": [
        ""
      ],
      "execution_count": 0,
      "outputs": []
    }
  ]
}