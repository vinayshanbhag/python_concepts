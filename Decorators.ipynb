{
  "nbformat": 4,
  "nbformat_minor": 0,
  "metadata": {
    "colab": {
      "name": "Python Decorators.ipynb",
      "provenance": [],
      "authorship_tag": "ABX9TyOqJIIwXmBcrthWPem8Deft",
      "include_colab_link": true
    },
    "kernelspec": {
      "name": "python3",
      "display_name": "Python 3"
    }
  },
  "cells": [
    {
      "cell_type": "markdown",
      "metadata": {
        "id": "view-in-github",
        "colab_type": "text"
      },
      "source": [
        "<a href=\"https://colab.research.google.com/github/vinayshanbhag/python_concepts/blob/master/Decorators.ipynb\" target=\"_parent\"><img src=\"https://colab.research.google.com/assets/colab-badge.svg\" alt=\"Open In Colab\"/></a>"
      ]
    },
    {
      "cell_type": "markdown",
      "metadata": {
        "id": "z-Is1ur58CPl",
        "colab_type": "text"
      },
      "source": [
        "## Python Decorators\n",
        "\n",
        "Python decorators can be used to dynamically alter the functionality of a function without having to change the source code of the function being decorated.\n",
        "\n",
        "The ```decorator``` function takes the original function to be decorated as input. The inner ```decorated``` wraps additional functionality around the original function. The ```decorator``` then returns the ```decorated``` inner function \n",
        "\n"
      ]
    },
    {
      "cell_type": "code",
      "metadata": {
        "id": "lHvSJuuUyKWc",
        "colab_type": "code",
        "colab": {}
      },
      "source": [
        "def decorator(func_to_be_decorated):\n",
        "  print(f\"decorator called for {func_to_be_decorated.__name__}\")\n",
        "  def decorated():\n",
        "    print(f\"calling {func_to_be_decorated.__name__}:\")\n",
        "    val = func_to_be_decorated()\n",
        "    print(f\":{func_to_be_decorated.__name__} ended\")\n",
        "    return val\n",
        "  return decorated"
      ],
      "execution_count": 0,
      "outputs": []
    },
    {
      "cell_type": "markdown",
      "metadata": {
        "id": "kZ0AGXPg9nS8",
        "colab_type": "text"
      },
      "source": [
        "To put this to use, we define a function ```baz``` and then reassign ```baz``` to decorated version"
      ]
    },
    {
      "cell_type": "code",
      "metadata": {
        "id": "3Dornf84zaw3",
        "colab_type": "code",
        "colab": {
          "base_uri": "https://localhost:8080/",
          "height": 34
        },
        "outputId": "68675a33-0e63-4b37-8e06-f92144eed86a"
      },
      "source": [
        "def baz():\n",
        "  print(\"inside baz\")\n",
        "  return \"baz\"\n",
        "baz = decorator(baz)"
      ],
      "execution_count": 7,
      "outputs": [
        {
          "output_type": "stream",
          "text": [
            "decorator called for baz\n"
          ],
          "name": "stdout"
        }
      ]
    },
    {
      "cell_type": "markdown",
      "metadata": {
        "id": "S6e3C0n697w0",
        "colab_type": "text"
      },
      "source": [
        "Calling ```baz```, we can see the decorated behavior"
      ]
    },
    {
      "cell_type": "code",
      "metadata": {
        "id": "sCk_wgiuzoho",
        "colab_type": "code",
        "colab": {
          "base_uri": "https://localhost:8080/",
          "height": 85
        },
        "outputId": "a33868a9-d582-4cb6-a086-677c77a35a54"
      },
      "source": [
        "x = baz()\n",
        "print(f\"function baz returned: {x}\")"
      ],
      "execution_count": 11,
      "outputs": [
        {
          "output_type": "stream",
          "text": [
            "calling baz:\n",
            "inside baz\n",
            ":baz ended\n",
            "function baz returned: baz\n"
          ],
          "name": "stdout"
        }
      ]
    },
    {
      "cell_type": "markdown",
      "metadata": {
        "id": "VTUIXamK-K0L",
        "colab_type": "text"
      },
      "source": [
        "Alternatively, this can be simplified with the @decorator syntax."
      ]
    },
    {
      "cell_type": "code",
      "metadata": {
        "id": "etFC03W_yo5G",
        "colab_type": "code",
        "colab": {
          "base_uri": "https://localhost:8080/",
          "height": 51
        },
        "outputId": "2af72abb-58d3-43c4-e01b-ce71c91e25a3"
      },
      "source": [
        "@decorator\n",
        "def foo():\n",
        "  print(\"inside foo\")\n",
        "  return \"foo\"\n",
        "\n",
        "@decorator\n",
        "def bar():\n",
        "  print(\"inside bar\")\n",
        "  return \"bar\"  "
      ],
      "execution_count": 9,
      "outputs": [
        {
          "output_type": "stream",
          "text": [
            "decorator called for foo\n",
            "decorator called for bar\n"
          ],
          "name": "stdout"
        }
      ]
    },
    {
      "cell_type": "markdown",
      "metadata": {
        "id": "r54Ykam3-jg9",
        "colab_type": "text"
      },
      "source": [
        "Calling these functions, reveals decorated behavior"
      ]
    },
    {
      "cell_type": "code",
      "metadata": {
        "id": "y2sB51mJyuoX",
        "colab_type": "code",
        "colab": {
          "base_uri": "https://localhost:8080/",
          "height": 187
        },
        "outputId": "a86ae95e-628b-48c3-f771-385b6373ff95"
      },
      "source": [
        "v = foo()\n",
        "print(f\"function foo returned: {v}\\n\")\n",
        "w = bar()\n",
        "print(f\"function bar returned: {w}\\n\")"
      ],
      "execution_count": 43,
      "outputs": [
        {
          "output_type": "stream",
          "text": [
            "calling foo:\n",
            "inside foo\n",
            ":foo ended\n",
            "function foo returned: foo\n",
            "\n",
            "calling bar:\n",
            "inside bar\n",
            ":bar ended\n",
            "function bar returned: bar\n",
            "\n"
          ],
          "name": "stdout"
        }
      ]
    },
    {
      "cell_type": "markdown",
      "metadata": {
        "id": "-Jv-q3Rv-i07",
        "colab_type": "text"
      },
      "source": [
        "To handle function arguments, pass ```*args``` and ```**kwargs``` to the wrapper function"
      ]
    },
    {
      "cell_type": "code",
      "metadata": {
        "id": "L8TLXPArzpfI",
        "colab_type": "code",
        "colab": {}
      },
      "source": [
        "def yet_another_decorator(func):\n",
        "  def decorated(*args, **kwargs):\n",
        "    print(f\"calling {func.__name__}:\")\n",
        "    val = func(*args, **kwargs)\n",
        "    print(f\":{func.__name__} ended\")\n",
        "    return val\n",
        "  return decorated"
      ],
      "execution_count": 0,
      "outputs": []
    },
    {
      "cell_type": "code",
      "metadata": {
        "id": "joWg0oas_eP4",
        "colab_type": "code",
        "colab": {}
      },
      "source": [
        "@yet_another_decorator\n",
        "def hello(*args):\n",
        "  print(f\"hello:{' '.join(list(args))}\")\n",
        "  return ' '.join(list(args))"
      ],
      "execution_count": 0,
      "outputs": []
    },
    {
      "cell_type": "code",
      "metadata": {
        "id": "ZOdZGfZ4_wcY",
        "colab_type": "code",
        "colab": {
          "base_uri": "https://localhost:8080/",
          "height": 85
        },
        "outputId": "7177a0ac-8c60-431a-a6c6-dd30ff3fb595"
      },
      "source": [
        "hello('beautiful', 'world')"
      ],
      "execution_count": 46,
      "outputs": [
        {
          "output_type": "stream",
          "text": [
            "calling hello:\n",
            "hello:beautiful world\n",
            ":hello ended\n"
          ],
          "name": "stdout"
        },
        {
          "output_type": "execute_result",
          "data": {
            "text/plain": [
              "'beautiful world'"
            ]
          },
          "metadata": {
            "tags": []
          },
          "execution_count": 46
        }
      ]
    },
    {
      "cell_type": "markdown",
      "metadata": {
        "id": "B_-fdez7DmyD",
        "colab_type": "text"
      },
      "source": [
        "Decorators using classes"
      ]
    },
    {
      "cell_type": "code",
      "metadata": {
        "id": "Z3R3uVWY_xSZ",
        "colab_type": "code",
        "colab": {}
      },
      "source": [
        "class Decorator_class():\n",
        "  def __init__(self, func_to_be_decorated):\n",
        "    self.func_to_be_decorated = func_to_be_decorated\n",
        "  \n",
        "  def __call__(self, *args, **kwargs):\n",
        "    print(f\"calling {self.func_to_be_decorated.__name__}:\")\n",
        "    val = self.func_to_be_decorated(*args, **kwargs)\n",
        "    print(f\":{self.func_to_be_decorated.__name__} ended\")\n",
        "    return val"
      ],
      "execution_count": 0,
      "outputs": []
    },
    {
      "cell_type": "code",
      "metadata": {
        "id": "MmEIDMz2CfvU",
        "colab_type": "code",
        "colab": {}
      },
      "source": [
        "@Decorator_class\n",
        "def some_func(*args):\n",
        "  print(f\"some_func({','.join(list(args))}):\")\n",
        "  return ' '.join(list(args))"
      ],
      "execution_count": 0,
      "outputs": []
    },
    {
      "cell_type": "code",
      "metadata": {
        "id": "M1kGs_5iC5dZ",
        "colab_type": "code",
        "colab": {
          "base_uri": "https://localhost:8080/",
          "height": 85
        },
        "outputId": "989ad401-d692-45d0-b4f4-cd1e19fca422"
      },
      "source": [
        "z = some_func(\"test\")\n",
        "print(f\"some_func returned:{z}\")"
      ],
      "execution_count": 49,
      "outputs": [
        {
          "output_type": "stream",
          "text": [
            "calling some_func:\n",
            "some_func(test):\n",
            ":some_func ended\n",
            "some_func returned:test\n"
          ],
          "name": "stdout"
        }
      ]
    },
    {
      "cell_type": "markdown",
      "metadata": {
        "id": "RagJOz9gEWgp",
        "colab_type": "text"
      },
      "source": [
        "Chaining multiple decorators\n",
        "\n",
        "Here we apply ```time_it``` decorator to ```some_long_running_func``` and then also apply the ```logger``` decorator. The problem here is that the inner most decorator returns a wrapper func, so the logger sees ```wrapper``` instead of our original function\n"
      ]
    },
    {
      "cell_type": "code",
      "metadata": {
        "id": "8tok3kcXC7O5",
        "colab_type": "code",
        "colab": {}
      },
      "source": [
        "import time\n",
        "def logger(f):\n",
        "  def wrapper(*args, **kwargs):\n",
        "    print(f\"log: {f.__name__}({','.join([str(i) for i in list(args)])},{','.join([f'{i[0]}={str(i[1])}' for i in kwargs.items()])}):\")\n",
        "    return f(*args, **kwargs)\n",
        "  return wrapper\n",
        "\n",
        "def time_it(f):\n",
        "  def wrapper(*args, **kwargs):\n",
        "    s = time.perf_counter()\n",
        "    v = f(*args, **kwargs)\n",
        "    e = time.perf_counter()\n",
        "    print(f\"{f.__name__} took:{e-s:0.3f}s\")\n",
        "    return v\n",
        "  return wrapper"
      ],
      "execution_count": 0,
      "outputs": []
    },
    {
      "cell_type": "code",
      "metadata": {
        "id": "vLvoLf0aFJNq",
        "colab_type": "code",
        "colab": {}
      },
      "source": [
        "@logger\n",
        "@time_it\n",
        "def some_long_running_func():\n",
        "  time.sleep(2)"
      ],
      "execution_count": 0,
      "outputs": []
    },
    {
      "cell_type": "code",
      "metadata": {
        "id": "Znl9FwGkH-rW",
        "colab_type": "code",
        "colab": {
          "base_uri": "https://localhost:8080/",
          "height": 51
        },
        "outputId": "6adc6730-5709-433c-a485-337eb57f1eac"
      },
      "source": [
        "some_long_running_func()"
      ],
      "execution_count": 151,
      "outputs": [
        {
          "output_type": "stream",
          "text": [
            "log: wrapper(,):\n",
            "some_long_running_func took:2.002s\n"
          ],
          "name": "stdout"
        }
      ]
    },
    {
      "cell_type": "markdown",
      "metadata": {
        "id": "D__-6H_tL9t0",
        "colab_type": "text"
      },
      "source": [
        "This is fixed by using the wraps decorator from functools. wrapper function in each decorator is now decorated with ```@wraps(<original func>)```"
      ]
    },
    {
      "cell_type": "code",
      "metadata": {
        "id": "jfqzxYZuH_cm",
        "colab_type": "code",
        "colab": {}
      },
      "source": [
        "import time\n",
        "from functools import wraps\n",
        "def logger2(f):\n",
        "  @wraps(f)\n",
        "  def wrapper(*args, **kwargs):\n",
        "    print(f\"log: {f.__name__}({','.join([str(i) for i in list(args)])},{','.join([f'{i[0]}={str(i[1])}' for i in kwargs.items()])}):\")\n",
        "    return f(*args, **kwargs)\n",
        "  return wrapper\n",
        "\n",
        "def time_it2(f):\n",
        "  @wraps(f)\n",
        "  def wrapper(*args, **kwargs):\n",
        "    s = time.perf_counter()\n",
        "    v = f(*args, **kwargs)\n",
        "    e = time.perf_counter()\n",
        "    print(f\"{f.__name__} took:{e-s:0.3f}s\")\n",
        "    return v\n",
        "  return wrapper"
      ],
      "execution_count": 0,
      "outputs": []
    },
    {
      "cell_type": "code",
      "metadata": {
        "id": "2y7H3CDVMDHz",
        "colab_type": "code",
        "colab": {}
      },
      "source": [
        "@logger2\n",
        "@time_it2\n",
        "def yet_another_long_running_func():\n",
        "  time.sleep(2)"
      ],
      "execution_count": 0,
      "outputs": []
    },
    {
      "cell_type": "code",
      "metadata": {
        "id": "hxyJ19DdMIaa",
        "colab_type": "code",
        "colab": {
          "base_uri": "https://localhost:8080/",
          "height": 51
        },
        "outputId": "ead7a8f7-e862-4291-d1e9-2a735b506b10"
      },
      "source": [
        "yet_another_long_running_func()"
      ],
      "execution_count": 154,
      "outputs": [
        {
          "output_type": "stream",
          "text": [
            "log: yet_another_long_running_func(,):\n",
            "yet_another_long_running_func took:2.002s\n"
          ],
          "name": "stdout"
        }
      ]
    },
    {
      "cell_type": "code",
      "metadata": {
        "id": "nL5BaPodMKeH",
        "colab_type": "code",
        "colab": {}
      },
      "source": [
        ""
      ],
      "execution_count": 0,
      "outputs": []
    }
  ]
}