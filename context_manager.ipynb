{
  "nbformat": 4,
  "nbformat_minor": 0,
  "metadata": {
    "colab": {
      "name": "context manager.ipynb",
      "provenance": [],
      "authorship_tag": "ABX9TyP7B8ucPbkRZZGk3N7iQ/vV",
      "include_colab_link": true
    },
    "kernelspec": {
      "name": "python3",
      "display_name": "Python 3"
    }
  },
  "cells": [
    {
      "cell_type": "markdown",
      "metadata": {
        "id": "view-in-github",
        "colab_type": "text"
      },
      "source": [
        "<a href=\"https://colab.research.google.com/github/vinayshanbhag/python_concepts/blob/master/context_manager.ipynb\" target=\"_parent\"><img src=\"https://colab.research.google.com/assets/colab-badge.svg\" alt=\"Open In Colab\"/></a>"
      ]
    },
    {
      "cell_type": "markdown",
      "metadata": {
        "id": "Jgaf34I_F2Yj",
        "colab_type": "text"
      },
      "source": [
        "## Context Managers\n",
        "\n",
        "Context managers allow us to efficiently manage resources. In this built-in example, a file is automatically closed on exiting the with block."
      ]
    },
    {
      "cell_type": "code",
      "metadata": {
        "id": "AQWj2bmVGggh",
        "colab_type": "code",
        "colab": {}
      },
      "source": [
        "with open('test.txt','w') as f:\n",
        "  f.write(\"This is a test\")"
      ],
      "execution_count": 0,
      "outputs": []
    },
    {
      "cell_type": "code",
      "metadata": {
        "id": "wPI2ztL6Gq7Q",
        "colab_type": "code",
        "colab": {
          "base_uri": "https://localhost:8080/",
          "height": 34
        },
        "outputId": "f72b8b0b-9944-4cc7-ce15-1086d9949110"
      },
      "source": [
        "!cat test.txt"
      ],
      "execution_count": 18,
      "outputs": [
        {
          "output_type": "stream",
          "text": [
            "This is a test"
          ],
          "name": "stdout"
        }
      ]
    },
    {
      "cell_type": "code",
      "metadata": {
        "id": "rMG2LQTtGv-7",
        "colab_type": "code",
        "colab": {
          "base_uri": "https://localhost:8080/",
          "height": 34
        },
        "outputId": "deec8519-e76e-43ce-e033-a6f35062e5b3"
      },
      "source": [
        "f.closed"
      ],
      "execution_count": 19,
      "outputs": [
        {
          "output_type": "execute_result",
          "data": {
            "text/plain": [
              "True"
            ]
          },
          "metadata": {
            "tags": []
          },
          "execution_count": 19
        }
      ]
    },
    {
      "cell_type": "markdown",
      "metadata": {
        "id": "zEmJXwxLHgA7",
        "colab_type": "text"
      },
      "source": [
        "Creating our own context manager..."
      ]
    },
    {
      "cell_type": "code",
      "metadata": {
        "id": "GsM-tZeKHCF8",
        "colab_type": "code",
        "colab": {}
      },
      "source": [
        "class Open_file():\n",
        "  def __init__(self, fname, mode):\n",
        "    self.fname=fname\n",
        "    self.mode=mode\n",
        "  \n",
        "  def __enter__(self):\n",
        "    \"\"\"Setup\"\"\"\n",
        "    self.file = open(self.fname, self.mode)\n",
        "    return self.file\n",
        "\n",
        "  def __exit__(self, exc_type, exc_val, traceback):\n",
        "    \"\"\"Teardown\"\"\"\n",
        "    self.file.close()"
      ],
      "execution_count": 0,
      "outputs": []
    },
    {
      "cell_type": "code",
      "metadata": {
        "id": "jhBDYVH_Ibs5",
        "colab_type": "code",
        "colab": {}
      },
      "source": [
        "with Open_file('hello.txt','w') as f:\n",
        "  f.write(\"hello, world!\")"
      ],
      "execution_count": 0,
      "outputs": []
    },
    {
      "cell_type": "code",
      "metadata": {
        "id": "8kaAWrAPI42w",
        "colab_type": "code",
        "colab": {
          "base_uri": "https://localhost:8080/",
          "height": 34
        },
        "outputId": "6dfb1a68-49cb-4353-99b2-6718d7543da9"
      },
      "source": [
        "!cat hello.txt"
      ],
      "execution_count": 45,
      "outputs": [
        {
          "output_type": "stream",
          "text": [
            "hello, world!"
          ],
          "name": "stdout"
        }
      ]
    },
    {
      "cell_type": "code",
      "metadata": {
        "id": "18inMxOeJAn5",
        "colab_type": "code",
        "colab": {
          "base_uri": "https://localhost:8080/",
          "height": 34
        },
        "outputId": "dddb57bd-1167-4086-c8b2-39bede8f8994"
      },
      "source": [
        "f.closed"
      ],
      "execution_count": 46,
      "outputs": [
        {
          "output_type": "execute_result",
          "data": {
            "text/plain": [
              "True"
            ]
          },
          "metadata": {
            "tags": []
          },
          "execution_count": 46
        }
      ]
    },
    {
      "cell_type": "code",
      "metadata": {
        "id": "Z0rxsTOBM8Vm",
        "colab_type": "code",
        "colab": {
          "base_uri": "https://localhost:8080/",
          "height": 300
        },
        "outputId": "1baafced-e7fb-46a8-929e-4b6e57e461de"
      },
      "source": [
        "with Open_file('somenonexistentfile','r') as f:\n",
        "  print(f.read())"
      ],
      "execution_count": 56,
      "outputs": [
        {
          "output_type": "error",
          "ename": "FileNotFoundError",
          "evalue": "ignored",
          "traceback": [
            "\u001b[0;31m---------------------------------------------------------------------------\u001b[0m",
            "\u001b[0;31mFileNotFoundError\u001b[0m                         Traceback (most recent call last)",
            "\u001b[0;32m<ipython-input-56-bc9f93d25ae3>\u001b[0m in \u001b[0;36m<module>\u001b[0;34m()\u001b[0m\n\u001b[0;32m----> 1\u001b[0;31m \u001b[0;32mwith\u001b[0m \u001b[0mOpen_file\u001b[0m\u001b[0;34m(\u001b[0m\u001b[0;34m'somenonexistentfile'\u001b[0m\u001b[0;34m,\u001b[0m\u001b[0;34m'r'\u001b[0m\u001b[0;34m)\u001b[0m \u001b[0;32mas\u001b[0m \u001b[0mf\u001b[0m\u001b[0;34m:\u001b[0m\u001b[0;34m\u001b[0m\u001b[0;34m\u001b[0m\u001b[0m\n\u001b[0m\u001b[1;32m      2\u001b[0m   \u001b[0mprint\u001b[0m\u001b[0;34m(\u001b[0m\u001b[0mf\u001b[0m\u001b[0;34m.\u001b[0m\u001b[0mread\u001b[0m\u001b[0;34m(\u001b[0m\u001b[0;34m)\u001b[0m\u001b[0;34m)\u001b[0m\u001b[0;34m\u001b[0m\u001b[0;34m\u001b[0m\u001b[0m\n",
            "\u001b[0;32m<ipython-input-38-2ec891c52864>\u001b[0m in \u001b[0;36m__enter__\u001b[0;34m(self)\u001b[0m\n\u001b[1;32m      6\u001b[0m   \u001b[0;32mdef\u001b[0m \u001b[0m__enter__\u001b[0m\u001b[0;34m(\u001b[0m\u001b[0mself\u001b[0m\u001b[0;34m)\u001b[0m\u001b[0;34m:\u001b[0m\u001b[0;34m\u001b[0m\u001b[0;34m\u001b[0m\u001b[0m\n\u001b[1;32m      7\u001b[0m     \u001b[0;34m\"\"\"Setup\"\"\"\u001b[0m\u001b[0;34m\u001b[0m\u001b[0;34m\u001b[0m\u001b[0m\n\u001b[0;32m----> 8\u001b[0;31m     \u001b[0mself\u001b[0m\u001b[0;34m.\u001b[0m\u001b[0mfile\u001b[0m \u001b[0;34m=\u001b[0m \u001b[0mopen\u001b[0m\u001b[0;34m(\u001b[0m\u001b[0mself\u001b[0m\u001b[0;34m.\u001b[0m\u001b[0mfname\u001b[0m\u001b[0;34m,\u001b[0m \u001b[0mself\u001b[0m\u001b[0;34m.\u001b[0m\u001b[0mmode\u001b[0m\u001b[0;34m)\u001b[0m\u001b[0;34m\u001b[0m\u001b[0;34m\u001b[0m\u001b[0m\n\u001b[0m\u001b[1;32m      9\u001b[0m     \u001b[0;32mreturn\u001b[0m \u001b[0mself\u001b[0m\u001b[0;34m.\u001b[0m\u001b[0mfile\u001b[0m\u001b[0;34m\u001b[0m\u001b[0;34m\u001b[0m\u001b[0m\n\u001b[1;32m     10\u001b[0m \u001b[0;34m\u001b[0m\u001b[0m\n",
            "\u001b[0;31mFileNotFoundError\u001b[0m: [Errno 2] No such file or directory: 'somenonexistentfile'"
          ]
        }
      ]
    },
    {
      "cell_type": "code",
      "metadata": {
        "id": "boOMW09TNZbI",
        "colab_type": "code",
        "colab": {
          "base_uri": "https://localhost:8080/",
          "height": 34
        },
        "outputId": "8e8a9fe1-e213-4310-fff7-b34dd22e69b2"
      },
      "source": [
        "print(f.closed)"
      ],
      "execution_count": 57,
      "outputs": [
        {
          "output_type": "stream",
          "text": [
            "True\n"
          ],
          "name": "stdout"
        }
      ]
    },
    {
      "cell_type": "markdown",
      "metadata": {
        "id": "9pneWiPJJ-Qs",
        "colab_type": "text"
      },
      "source": [
        "### Context manager using functions\n",
        "\n",
        "```contextlib.contextmanager``` is a decorator that converts a function to a context manager. The function being decorated must be a generator-iterator."
      ]
    },
    {
      "cell_type": "code",
      "metadata": {
        "id": "h-CTzgjaJCSW",
        "colab_type": "code",
        "colab": {}
      },
      "source": [
        "from contextlib import contextmanager"
      ],
      "execution_count": 0,
      "outputs": []
    },
    {
      "cell_type": "code",
      "metadata": {
        "id": "PQh6HLmlMg1H",
        "colab_type": "code",
        "colab": {}
      },
      "source": [
        "@contextmanager\n",
        "def open_file(file, mode):\n",
        "  try:\n",
        "    f = open(file, mode)\n",
        "    yield f\n",
        "  finally:\n",
        "    f.close()"
      ],
      "execution_count": 0,
      "outputs": []
    },
    {
      "cell_type": "code",
      "metadata": {
        "id": "nUaI6VB3MvJ9",
        "colab_type": "code",
        "colab": {
          "base_uri": "https://localhost:8080/",
          "height": 34
        },
        "outputId": "0f27f976-aa4b-4adf-f7ef-91ace04a4b5e"
      },
      "source": [
        "with open_file('hello.txt','r') as f:\n",
        "  print(f.read())"
      ],
      "execution_count": 73,
      "outputs": [
        {
          "output_type": "stream",
          "text": [
            "hello, world!\n"
          ],
          "name": "stdout"
        }
      ]
    },
    {
      "cell_type": "code",
      "metadata": {
        "id": "68kJUAIENv6P",
        "colab_type": "code",
        "colab": {
          "base_uri": "https://localhost:8080/",
          "height": 34
        },
        "outputId": "eb2f290c-0c0e-4a02-d72d-4b747ebd7a39"
      },
      "source": [
        "print(f.closed)"
      ],
      "execution_count": 66,
      "outputs": [
        {
          "output_type": "stream",
          "text": [
            "True\n"
          ],
          "name": "stdout"
        }
      ]
    },
    {
      "cell_type": "code",
      "metadata": {
        "id": "LDuXPXmdQBIV",
        "colab_type": "code",
        "colab": {}
      },
      "source": [
        ""
      ],
      "execution_count": 0,
      "outputs": []
    }
  ]
}